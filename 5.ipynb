{
 "cells": [
  {
   "cell_type": "code",
   "execution_count": 7,
   "metadata": {},
   "outputs": [
    {
     "name": "stdout",
     "output_type": "stream",
     "text": [
      "119\n"
     ]
    }
   ],
   "source": [
    "a = ord('w')\n",
    "print(a)"
   ]
  },
  {
   "cell_type": "code",
   "execution_count": 40,
   "metadata": {},
   "outputs": [
    {
     "name": "stdout",
     "output_type": "stream",
     "text": [
      "abcdefghijklmnopqrstuvwxyz\n",
      "введите букву b\n",
      "введите букву s\n",
      "98 115\n",
      "\u0011\n"
     ]
    }
   ],
   "source": [
    "'''Користувач вводить 2 букви. Визначити:\n",
    "На яких місцях алфавіту вони стоять.\n",
    "Скільки між ними знаходиться букв.\n",
    "Використати: ord, chr і https://uk.wikipedia.org/wiki/ASCII'''\n",
    "\n",
    "import string\n",
    "a = string.ascii_lowercase\n",
    "print(a)\n",
    "\n",
    "# задаем буквы\n",
    "first_letter = input(\"введите букву \")\n",
    "second_letter = input(\"введите букву \")\n",
    "\n",
    "#получаем номер по юникоду\n",
    "b = ord(first_letter)\n",
    "c = ord(second_letter)\n",
    "print(b, c)\n",
    "\n",
    "#выводим символи между\n",
    "d=c-b\n",
    "print(chr(d))\n",
    "\n",
    "#print(a[g+1:k])"
   ]
  },
  {
   "cell_type": "code",
   "execution_count": 41,
   "metadata": {},
   "outputs": [
    {
     "name": "stdout",
     "output_type": "stream",
     "text": [
      "98 115\n"
     ]
    }
   ],
   "source": [
    "b = ord(first_letter)\n",
    "n = ord(second_letter)\n",
    "print(b, n)"
   ]
  },
  {
   "cell_type": "code",
   "execution_count": 50,
   "metadata": {},
   "outputs": [],
   "source": [
    "ascii?"
   ]
  }
 ],
 "metadata": {
  "kernelspec": {
   "display_name": "Python 3",
   "language": "python",
   "name": "python3"
  },
  "language_info": {
   "codemirror_mode": {
    "name": "ipython",
    "version": 3
   },
   "file_extension": ".py",
   "mimetype": "text/x-python",
   "name": "python",
   "nbconvert_exporter": "python",
   "pygments_lexer": "ipython3",
   "version": "3.8.3"
  }
 },
 "nbformat": 4,
 "nbformat_minor": 4
}
