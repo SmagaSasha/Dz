{
 "cells": [
  {
   "cell_type": "code",
   "execution_count": 8,
   "metadata": {},
   "outputs": [
    {
     "name": "stdout",
     "output_type": "stream",
     "text": [
      "введите число 2\n",
      "введите число 3\n",
      "3 2\n"
     ]
    }
   ],
   "source": [
    "# Вводные данные\n",
    "\n",
    "namber_1 = int(input(\"введите число \"))\n",
    "\n",
    "namber_2 = int(input(\"введите число \"))\n",
    "\n",
    "namber_1, namber_2 = namber_2, namber_1\n",
    "print(namber_1,namber_2)"
   ]
  },
  {
   "cell_type": "code",
   "execution_count": 9,
   "metadata": {},
   "outputs": [
    {
     "name": "stdout",
     "output_type": "stream",
     "text": [
      "введите число 123\n",
      "введите число 234\n",
      "357\n",
      "28782\n"
     ]
    }
   ],
   "source": [
    "# Вводные данные\n",
    "\n",
    "namber_1 = int(input(\"введите число \"))\n",
    "\n",
    "namber_2 = int(input(\"введите число \"))\n",
    "\n",
    "print(namber_1 + namber_2)\n",
    "print(namber_1 * namber_2)"
   ]
  },
  {
   "cell_type": "code",
   "execution_count": 28,
   "metadata": {},
   "outputs": [
    {
     "name": "stdout",
     "output_type": "stream",
     "text": [
      "введите букву d\n",
      "введите букву s\n",
      "abcdefghijklmnopqrstuvwxyz\n",
      "3\n",
      "18\n"
     ]
    },
    {
     "data": {
      "text/plain": [
       "'efghijklmnopqr'"
      ]
     },
     "execution_count": 28,
     "metadata": {},
     "output_type": "execute_result"
    }
   ],
   "source": [
    "# Задача!\n",
    "# Задать две буквы\n",
    "# Найти их порядковый номер \n",
    "# Вывести буквы которые между ними\n",
    "\n",
    "# задаем буквы\n",
    "first_letter = input(\"введите букву \")\n",
    "\n",
    "second_letter = input(\"введите букву \")\n",
    "\n",
    "# импортируем нужную библиотеку и выводим алфавит\n",
    "import string\n",
    "a = string.ascii_lowercase\n",
    "print(a)\n",
    "\n",
    "# находим заданние буквы\n",
    "g = a.find(first_letter)\n",
    "print(g)\n",
    "k = a.find(second_letter)\n",
    "print(k)\n",
    "\n",
    "# виводим промежуточные буквы\n",
    "a[g+1:k]\n"
   ]
  }
 ],
 "metadata": {
  "kernelspec": {
   "display_name": "Python 3.8.2 64-bit",
   "language": "python",
   "name": "python38264bit19cdd40241eb43dda9e0e7eb7e48563d"
  },
  "language_info": {
   "codemirror_mode": {
    "name": "ipython",
    "version": 3
   },
   "file_extension": ".py",
   "mimetype": "text/x-python",
   "name": "python",
   "nbconvert_exporter": "python",
   "pygments_lexer": "ipython3",
   "version": "3.8.2"
  }
 },
 "nbformat": 4,
 "nbformat_minor": 4
}
